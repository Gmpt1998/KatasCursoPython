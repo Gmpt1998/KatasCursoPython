{
 "cells": [
  {
   "cell_type": "markdown",
   "metadata": {},
   "source": [
    "## Ejercicio 1: Creación de un bucle \"while\""
   ]
  },
  {
   "cell_type": "markdown",
   "metadata": {},
   "source": [
    "Comienza agregando dos variables, una para la entrada del usuario, con el nombre new_planet, y otra variable para la lista de planetas, denominada planets."
   ]
  },
  {
   "cell_type": "code",
   "execution_count": 5,
   "metadata": {},
   "outputs": [],
   "source": [
    "new_planet = ''\n",
    "planets = []"
   ]
  },
  {
   "cell_type": "markdown",
   "metadata": {},
   "source": [
    "Comenzando con las variables que acabas de crear, crearás un ciclo while. El ciclo while se ejecutará mientras el new_planet no sea igual a la palabra 'done'.\n",
    "\n",
    "Dentro del ciclo, comprobarás si la variable new_planet contiene un valor, que debería ser el nombre de un planeta. Esta es una forma rápida de ver si el usuario ha introducido un valor. Si lo han hecho, tu código agregará (append) ese valor a la variable planets.\n",
    "\n",
    "Finalmente, usarás input para solicitar al usuario que ingrese un nuevo nombre de planeta o que escriba done si ha terminado de ingresar nombres de planeta. Almacenará el valor de input en la variable new_planet."
   ]
  },
  {
   "cell_type": "code",
   "execution_count": 6,
   "metadata": {},
   "outputs": [],
   "source": [
    "while new_planet != 'done':\n",
    "    if new_planet:\n",
    "        planets.append(new_planet)\n",
    "    new_planet = input('Escribe el nombre de uno o varios planetas, o escribe done cuando termines')"
   ]
  },
  {
   "cell_type": "markdown",
   "metadata": {},
   "source": [
    "## Ejercicio 2: Creación de un ciclo \"for\""
   ]
  },
  {
   "cell_type": "markdown",
   "metadata": {},
   "source": [
    "#### Mostrar la lista de los planetas\n",
    "La variable planets almacena los nombres de planeta que ha introducido un usuario. Ahora usarás un ciclo para mostrar esas entradas.\n",
    "\n",
    "Crea un ciclo for para iterar sobre la lista planets. Puedes usar como nombre de la variable planet para cada planeta. Dentro del ciclo for, recuerda utilizar print para mostrar cada planet."
   ]
  },
  {
   "cell_type": "code",
   "execution_count": 15,
   "metadata": {},
   "outputs": [
    {
     "name": "stdout",
     "output_type": "stream",
     "text": [
      "tierra\n",
      "marte\n",
      "venus\n",
      "saturno\n",
      "neptuno\n"
     ]
    }
   ],
   "source": [
    "for planet in planets:\n",
    "    print(planet)"
   ]
  }
 ],
 "metadata": {
  "interpreter": {
   "hash": "32ccf9949aca6063db479b0dbbbb31c895cd665b088154487538483554984cb7"
  },
  "kernelspec": {
   "display_name": "Python 3.10.2 64-bit",
   "language": "python",
   "name": "python3"
  },
  "language_info": {
   "codemirror_mode": {
    "name": "ipython",
    "version": 3
   },
   "file_extension": ".py",
   "mimetype": "text/x-python",
   "name": "python",
   "nbconvert_exporter": "python",
   "pygments_lexer": "ipython3",
   "version": "3.10.2"
  },
  "orig_nbformat": 4
 },
 "nbformat": 4,
 "nbformat_minor": 2
}
