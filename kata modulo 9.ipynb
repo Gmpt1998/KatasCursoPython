{
 "cells": [
  {
   "cell_type": "markdown",
   "metadata": {},
   "source": [
    "## Ejercicio: Uso de funciones en Python"
   ]
  },
  {
   "cell_type": "markdown",
   "metadata": {},
   "source": [
    "Comienza por crear una función que necesite tres lecturas de combustible y devuelva un informe:"
   ]
  },
  {
   "cell_type": "code",
   "execution_count": 4,
   "metadata": {},
   "outputs": [],
   "source": [
    "def reporte_combustible(primer_deposito, segundo_deposito, tercer_deposito):\n",
    "    promedio_comb = (primer_deposito + segundo_deposito + tercer_deposito) / 3\n",
    "    return f\"\"\"Reporte de combustible:\n",
    "    Promedio: {promedio_comb}%\n",
    "    Primer deposito: {primer_deposito}%\n",
    "    Segundo deposito: {segundo_deposito}%\n",
    "    Tercer deposito: {tercer_deposito}%\n",
    "     \"\"\""
   ]
  },
  {
   "cell_type": "markdown",
   "metadata": {},
   "source": [
    "Ahora que hemos definido la función de informes, vamos a comprobarlo. Para esta misión, los tanques no están llenos:"
   ]
  },
  {
   "cell_type": "code",
   "execution_count": 5,
   "metadata": {},
   "outputs": [
    {
     "name": "stdout",
     "output_type": "stream",
     "text": [
      "Reporte de combustible:\n",
      "    Promedio: 61.0%\n",
      "    Primer deposito: 90%\n",
      "    Segundo deposito: 25%\n",
      "    Tercer deposito: 68%\n",
      "     \n"
     ]
    }
   ],
   "source": [
    "print(reporte_combustible(90,25,68))"
   ]
  },
  {
   "cell_type": "markdown",
   "metadata": {},
   "source": [
    "En lugar de simplemente crear el informe, la función también está calculando el promedio. Mejora la legibilidad extrayendo el cálculo promedio de la función en una nueva función para que el promedio se pueda hacer de forma independiente:"
   ]
  },
  {
   "cell_type": "code",
   "execution_count": 6,
   "metadata": {},
   "outputs": [],
   "source": [
    "def promedio(values):\n",
    "    total = sum(values)\n",
    "    numero_items = len(values)\n",
    "    return total / numero_items"
   ]
  },
  {
   "cell_type": "code",
   "execution_count": 7,
   "metadata": {},
   "outputs": [
    {
     "data": {
      "text/plain": [
       "55.0"
      ]
     },
     "execution_count": 7,
     "metadata": {},
     "output_type": "execute_result"
    }
   ],
   "source": [
    "promedio([98,54,13])"
   ]
  },
  {
   "cell_type": "markdown",
   "metadata": {},
   "source": [
    "Ahora actualiza la función de informes para llamando a la nueva función del promedio:"
   ]
  },
  {
   "cell_type": "code",
   "execution_count": 14,
   "metadata": {},
   "outputs": [],
   "source": [
    "def reporte_combustible(primer_deposito, segundo_deposito, tercer_deposito):\n",
    "    return f\"\"\"Reporte de combustible:\n",
    "    Promedio: {(promedio({primer_deposito,segundo_deposito,tercer_deposito}))}%\n",
    "    Primer deposito: {primer_deposito}%\n",
    "    Segundo deposito: {segundo_deposito}%\n",
    "    Tercer deposito: {tercer_deposito}%\n",
    "     \"\"\""
   ]
  },
  {
   "cell_type": "code",
   "execution_count": 15,
   "metadata": {},
   "outputs": [
    {
     "name": "stdout",
     "output_type": "stream",
     "text": [
      "Reporte de combustible:\n",
      "    Promedio: 61.333333333333336%\n",
      "    Primer deposito: 90%\n",
      "    Segundo deposito: 89%\n",
      "    Tercer deposito: 5%\n",
      "     \n"
     ]
    }
   ],
   "source": [
    "print(reporte_combustible(90, 89, 5))"
   ]
  },
  {
   "cell_type": "markdown",
   "metadata": {},
   "source": [
    "## Ejercicio 2: Trabajo con argumentos de palabra clave"
   ]
  },
  {
   "cell_type": "markdown",
   "metadata": {},
   "source": [
    "En este ejercicio, construirás un informe de cohete que requiere varias piezas de información, como el tiempo hasta el destino, el combustible a la izquierda y el nombre del destino. Comienza por crear una función que creará un informe preciso de la misión:"
   ]
  },
  {
   "cell_type": "code",
   "execution_count": 24,
   "metadata": {},
   "outputs": [],
   "source": [
    "# Función con un informe preciso de la misión. Considera tiempo de lanzamiento, tiempo de vuelo, destino, tanque externo y tanque interno\n",
    "def informe(tiempo_lanzamiento, tiempo_vuelo , destino, tanque_externo, tanque_interno):\n",
    "    return f\"\"\" Informe de cohete:\n",
    "    Destino: {destino}\n",
    "    Total de combustible: {(tanque_externo + tanque_interno)}L        Combustible tanque externo: {tanque_externo}L           Combustible tanque interno: {tanque_interno}L\n",
    "    Tiempo de vuelo desde despegue: {tiempo_lanzamiento + tiempo_vuelo} minutos\n",
    "    \"\"\""
   ]
  },
  {
   "cell_type": "code",
   "execution_count": 25,
   "metadata": {},
   "outputs": [
    {
     "name": "stdout",
     "output_type": "stream",
     "text": [
      " Informe de cohete:\n",
      "    Destino: marte\n",
      "    Total de combustible: 959109L        Combustible tanque externo: 67900L           Combustible tanque interno: 891209L\n",
      "    Tiempo de vuelo desde despegue: 93 minutos\n",
      "    \n"
     ]
    }
   ],
   "source": [
    "print(informe(15, 78, 'marte', 67900, 891209))"
   ]
  },
  {
   "cell_type": "markdown",
   "metadata": {},
   "source": [
    "La función es problemática porque no se puede adaptar para minutos adicionales o tanques adicionales de combustible. Hazlo más flexible permitiendo cualquier número de pasos basados en el tiempo y cualquier número de tanques. En lugar de usar *args y **kwargs, aprovecha el hecho de que puedes usar cualquier nombre que desees. Asegurate que la función sea más legible mediante el uso de nombres de variables que están asociados con las entradas, como *minutes y **fuel_reservoirs:"
   ]
  },
  {
   "cell_type": "code",
   "execution_count": 32,
   "metadata": {},
   "outputs": [],
   "source": [
    "def Informe(destino, *minutos, **depositos_combustible):\n",
    "    return f\"\"\" Informe de cohete\n",
    "    Destino: {destino}\n",
    "    Tiempo de vuelo: {sum(minutos)} minutos\n",
    "    Combustible: {sum(depositos_combustible.values())}L\n",
    "    \"\"\" "
   ]
  },
  {
   "cell_type": "code",
   "execution_count": 33,
   "metadata": {},
   "outputs": [
    {
     "name": "stdout",
     "output_type": "stream",
     "text": [
      " Informe de cohete\n",
      "    Destino: saturno\n",
      "    Tiempo de vuelo: 153 minutos\n",
      "    Combustible: 88000L\n",
      "    \n"
     ]
    }
   ],
   "source": [
    "print(Informe(\"saturno\", 18, 90, 45, deposito_ext=67000, deposito_int=21000))"
   ]
  },
  {
   "cell_type": "markdown",
   "metadata": {},
   "source": [
    "Debido a que el combustible que queda en los tanques es específico de cada tanque, actualiza la función para usar el nombre de cada tanque en el informe:"
   ]
  },
  {
   "cell_type": "code",
   "execution_count": 73,
   "metadata": {},
   "outputs": [],
   "source": [
    "def Informe(destino, *minutos, **depositos_combustible):\n",
    "    Reporte = f\"\"\" \n",
    "    Informe de cohete\n",
    "    Destino: {destino}\n",
    "    Tiempo de vuelo: {sum(minutos)} minutos\n",
    "    Combustible: {sum(depositos_combustible.values())} L\n",
    "    \"\"\"\n",
    "    for nombre_tanque, litros in depositos_combustible.items():\n",
    "        Reporte += f\" El {nombre_tanque} tiene {litros} restantes\\n\"\n",
    "    return Reporte\n"
   ]
  },
  {
   "cell_type": "code",
   "execution_count": 74,
   "metadata": {},
   "outputs": [
    {
     "name": "stdout",
     "output_type": "stream",
     "text": [
      " \n",
      "    Informe de cohete\n",
      "    Destino: jupiter\n",
      "    Tiempo de vuelo: 183 minutos\n",
      "    Combustible: 9996707 L\n",
      "     El tanque_externo tiene 1233334 restantes\n",
      " El tanque_interno tiene 8763373 restantes\n",
      "\n"
     ]
    }
   ],
   "source": [
    "print(Informe(\"jupiter\", 18, 99, 21, 35, 10, tanque_externo=1233334, tanque_interno=8763373))"
   ]
  }
 ],
 "metadata": {
  "interpreter": {
   "hash": "32ccf9949aca6063db479b0dbbbb31c895cd665b088154487538483554984cb7"
  },
  "kernelspec": {
   "display_name": "Python 3.10.2 64-bit",
   "language": "python",
   "name": "python3"
  },
  "language_info": {
   "codemirror_mode": {
    "name": "ipython",
    "version": 3
   },
   "file_extension": ".py",
   "mimetype": "text/x-python",
   "name": "python",
   "nbconvert_exporter": "python",
   "pygments_lexer": "ipython3",
   "version": "3.10.2"
  },
  "orig_nbformat": 4
 },
 "nbformat": 4,
 "nbformat_minor": 2
}
